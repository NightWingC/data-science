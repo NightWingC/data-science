{
  "cells": [
    {
      "cell_type": "code",
      "execution_count": 4,
      "id": "70be9b8b",
      "metadata": {
        "id": "70be9b8b",
        "outputId": "d93023ea-0d20-44fd-92e6-8374f8606e4d",
        "colab": {
          "base_uri": "https://localhost:8080/",
          "height": 241
        }
      },
      "outputs": [
        {
          "output_type": "execute_result",
          "data": {
            "text/plain": [
              "0    10\n",
              "1    20\n",
              "2    30\n",
              "3    40\n",
              "4    50\n",
              "dtype: int64"
            ],
            "text/html": [
              "<div>\n",
              "<style scoped>\n",
              "    .dataframe tbody tr th:only-of-type {\n",
              "        vertical-align: middle;\n",
              "    }\n",
              "\n",
              "    .dataframe tbody tr th {\n",
              "        vertical-align: top;\n",
              "    }\n",
              "\n",
              "    .dataframe thead th {\n",
              "        text-align: right;\n",
              "    }\n",
              "</style>\n",
              "<table border=\"1\" class=\"dataframe\">\n",
              "  <thead>\n",
              "    <tr style=\"text-align: right;\">\n",
              "      <th></th>\n",
              "      <th>0</th>\n",
              "    </tr>\n",
              "  </thead>\n",
              "  <tbody>\n",
              "    <tr>\n",
              "      <th>0</th>\n",
              "      <td>10</td>\n",
              "    </tr>\n",
              "    <tr>\n",
              "      <th>1</th>\n",
              "      <td>20</td>\n",
              "    </tr>\n",
              "    <tr>\n",
              "      <th>2</th>\n",
              "      <td>30</td>\n",
              "    </tr>\n",
              "    <tr>\n",
              "      <th>3</th>\n",
              "      <td>40</td>\n",
              "    </tr>\n",
              "    <tr>\n",
              "      <th>4</th>\n",
              "      <td>50</td>\n",
              "    </tr>\n",
              "  </tbody>\n",
              "</table>\n",
              "</div><br><label><b>dtype:</b> int64</label>"
            ]
          },
          "metadata": {},
          "execution_count": 4
        }
      ],
      "source": [
        "import pandas as pd\n",
        "\n",
        "numeros = pd.Series([10, 20, 30, 40, 50])\n",
        "numeros"
      ]
    },
    {
      "cell_type": "code",
      "source": [
        "promedio = numeros.mean()\n",
        "print(f\"El promedio es {promedio}\")"
      ],
      "metadata": {
        "id": "SaQiROR4dpsl",
        "outputId": "c68ea730-5672-4793-c9b1-cc190c447650",
        "colab": {
          "base_uri": "https://localhost:8080/"
        }
      },
      "id": "SaQiROR4dpsl",
      "execution_count": 5,
      "outputs": [
        {
          "output_type": "stream",
          "name": "stdout",
          "text": [
            "El promedio es 30.0\n"
          ]
        }
      ]
    },
    {
      "cell_type": "code",
      "source": [
        "total = numeros.sum()\n",
        "total"
      ],
      "metadata": {
        "id": "m9cvZpGleCH4",
        "outputId": "692f8110-943e-4f08-a976-ae886d94512e",
        "colab": {
          "base_uri": "https://localhost:8080/"
        }
      },
      "id": "m9cvZpGleCH4",
      "execution_count": 6,
      "outputs": [
        {
          "output_type": "execute_result",
          "data": {
            "text/plain": [
              "np.int64(150)"
            ]
          },
          "metadata": {},
          "execution_count": 6
        }
      ]
    },
    {
      "cell_type": "code",
      "source": [
        "maximo = numeros.max()\n",
        "maximo"
      ],
      "metadata": {
        "id": "OFVybB7eeIUF",
        "outputId": "478c2a36-c46e-4709-a282-4a4d091063d8",
        "colab": {
          "base_uri": "https://localhost:8080/"
        }
      },
      "id": "OFVybB7eeIUF",
      "execution_count": 7,
      "outputs": [
        {
          "output_type": "execute_result",
          "data": {
            "text/plain": [
              "50"
            ]
          },
          "metadata": {},
          "execution_count": 7
        }
      ]
    },
    {
      "cell_type": "code",
      "source": [
        "minimo = numeros.min()\n",
        "minimo"
      ],
      "metadata": {
        "id": "ZA_gzlVPeMen",
        "outputId": "d4b87fd0-6ed9-4dec-81fa-67745fac2c20",
        "colab": {
          "base_uri": "https://localhost:8080/"
        }
      },
      "id": "ZA_gzlVPeMen",
      "execution_count": 8,
      "outputs": [
        {
          "output_type": "execute_result",
          "data": {
            "text/plain": [
              "10"
            ]
          },
          "metadata": {},
          "execution_count": 8
        }
      ]
    }
  ],
  "metadata": {
    "kernelspec": {
      "display_name": "Python 3 (ipykernel)",
      "language": "python",
      "name": "python3"
    },
    "language_info": {
      "codemirror_mode": {
        "name": "ipython",
        "version": 3
      },
      "file_extension": ".py",
      "mimetype": "text/x-python",
      "name": "python",
      "nbconvert_exporter": "python",
      "pygments_lexer": "ipython3",
      "version": "3.11.5"
    },
    "colab": {
      "provenance": []
    }
  },
  "nbformat": 4,
  "nbformat_minor": 5
}
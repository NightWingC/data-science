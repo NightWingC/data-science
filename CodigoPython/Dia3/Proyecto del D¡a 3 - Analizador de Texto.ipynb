{
 "cells": [
  {
   "cell_type": "markdown",
   "id": "9572445f",
   "metadata": {},
   "source": [
    "# Proyecto del Día 3: Analizador de Texto\n",
    "\n",
    "Este proyecto tiene como objetivo aplicar los conceptos aprendidos sobre strings, input, indexación y formateo de strings en Python. El programa permitirá al usuario ingresar un texto y luego elegir realizar diversas operaciones de análisis sobre ese texto.\n",
    "\n",
    "## Consigna\n",
    "Vas a crear un programa que le pida al usuario que ingrese un texto de al menos 10 palabras. Tu programa va a procesar ese texto, lo va a procesar, y le va a devolver un análisis detallado, que incluya:\n",
    "1. Contar el número total de caracteres en el texto\n",
    "2. Contar el número de caracteres sin incluir los espacios\n",
    "3. Contar la cantidad de vocales que hay en el texto\n",
    "4. Contar el número total de palabras en el texto ingresado\n",
    "\n",
    "**nota**: para resolver los siguientes items, deberás investigar otros métodos de strings que no hemos visto. Recuerda valerte de *type*, *dir* y *help*\n",
    "\n",
    "5. Eliminar la primera palabra\n",
    "6. Reemplazar todos los espacios por guiones medios (-)\n",
    "8. Cambia las mayúsculas a minúsculas y las minúsculas a mayúsculas \n",
    "\n",
    "Al finalizar el procesamiento, se imprimirán 8 cadenas literales mostrando los resultados del análisis (una cadena por cada resultado).\n",
    "<br>\n",
    "<br>\n",
    "<br>"
   ]
  },
  {
   "cell_type": "markdown",
   "id": "e5cd9e4d",
   "metadata": {},
   "source": [
    "### Resolución\n",
    "\n",
    "Ingreso del usuario:"
   ]
  },
  {
   "cell_type": "code",
   "execution_count": 3,
   "id": "fa27da8c",
   "metadata": {},
   "outputs": [
    {
     "name": "stdin",
     "output_type": "stream",
     "text": [
      "Ingresa un textoo de al menos 10  palabra: Hola soy pepe pica papas y el mejor de todos\n"
     ]
    }
   ],
   "source": [
    "texto = input(\"Ingresa un textoo de al menos 10  palabra:\")"
   ]
  },
  {
   "cell_type": "markdown",
   "id": "41214377",
   "metadata": {},
   "source": [
    "1. Contar el número total de caracteres en el texto"
   ]
  },
  {
   "cell_type": "code",
   "execution_count": 4,
   "id": "40448873",
   "metadata": {},
   "outputs": [
    {
     "data": {
      "text/plain": [
       "44"
      ]
     },
     "execution_count": 4,
     "metadata": {},
     "output_type": "execute_result"
    }
   ],
   "source": [
    "num_caracteres = len(texto)\n",
    "num_caracteres"
   ]
  },
  {
   "cell_type": "markdown",
   "id": "3d6378dc",
   "metadata": {},
   "source": [
    "2. Contar el número de caracteres sin incluir los espacios"
   ]
  },
  {
   "cell_type": "code",
   "execution_count": 6,
   "id": "991b29c7",
   "metadata": {},
   "outputs": [],
   "source": [
    "num_espacios = texto.count(\" \")\n",
    "num_espacios_sin_espacio = num_caracteres - num_espacios"
   ]
  },
  {
   "cell_type": "markdown",
   "id": "c6e62385",
   "metadata": {},
   "source": [
    "3. Contar la cantidad de vocales que hay en el texto"
   ]
  },
  {
   "cell_type": "code",
   "execution_count": 15,
   "id": "65b19bc7",
   "metadata": {},
   "outputs": [
    {
     "data": {
      "text/plain": [
       "15"
      ]
     },
     "execution_count": 15,
     "metadata": {},
     "output_type": "execute_result"
    }
   ],
   "source": [
    "num_a = texto.count(\"a\")\n",
    "num_e = texto.count(\"e\")\n",
    "num_i = texto.count(\"i\")\n",
    "num_o = texto.count(\"o\")\n",
    "num_u = texto.count(\"u\")\n",
    "num_vocales = num_a + num_e + num_i + num_o + num_u\n",
    "num_vocales\n"
   ]
  },
  {
   "cell_type": "markdown",
   "id": "4b6211c5",
   "metadata": {},
   "source": [
    "4. Contar el número total de palabras en el texto ingresado"
   ]
  },
  {
   "cell_type": "code",
   "execution_count": 9,
   "id": "5b6eb1b1",
   "metadata": {},
   "outputs": [
    {
     "data": {
      "text/plain": [
       "10"
      ]
     },
     "execution_count": 9,
     "metadata": {},
     "output_type": "execute_result"
    }
   ],
   "source": [
    "num_palabras = num_espacios + 1\n",
    "num_palabras"
   ]
  },
  {
   "cell_type": "markdown",
   "id": "bee5597e",
   "metadata": {},
   "source": [
    "5. Eliminar la primera palabra"
   ]
  },
  {
   "cell_type": "code",
   "execution_count": 10,
   "id": "8bcbfe9d",
   "metadata": {},
   "outputs": [
    {
     "data": {
      "text/plain": [
       "'soy pepe pica papas y el mejor de todos'"
      ]
     },
     "execution_count": 10,
     "metadata": {},
     "output_type": "execute_result"
    }
   ],
   "source": [
    "primer_espacio = texto.find(\" \")\n",
    "sin_primera_palabra = texto[primer_espacio + 1:]\n",
    "sin_primera_palabra"
   ]
  },
  {
   "cell_type": "markdown",
   "id": "d5b05440",
   "metadata": {},
   "source": [
    "6. Reemplazar todos los espacios por guiones medios (-)"
   ]
  },
  {
   "cell_type": "code",
   "execution_count": 11,
   "id": "90a21e61",
   "metadata": {},
   "outputs": [
    {
     "data": {
      "text/plain": [
       "'Hola-soy-pepe-pica-papas-y-el-mejor-de-todos'"
      ]
     },
     "execution_count": 11,
     "metadata": {},
     "output_type": "execute_result"
    }
   ],
   "source": [
    "guiones = texto.replace(\" \", \"-\")\n",
    "guiones"
   ]
  },
  {
   "cell_type": "markdown",
   "id": "8a61c508",
   "metadata": {},
   "source": [
    "7. Cambia las mayúsculas a minúsculas y las minúsculas a mayúsculas"
   ]
  },
  {
   "cell_type": "code",
   "execution_count": 12,
   "id": "8cb35aaf",
   "metadata": {},
   "outputs": [
    {
     "data": {
      "text/plain": [
       "'hOLA SOY PEPE PICA PAPAS Y EL MEJOR DE TODOS'"
      ]
     },
     "execution_count": 12,
     "metadata": {},
     "output_type": "execute_result"
    }
   ],
   "source": [
    "viceversa = texto.swapcase()\n",
    "viceversa"
   ]
  },
  {
   "cell_type": "markdown",
   "id": "66b8d816",
   "metadata": {},
   "source": [
    "Muéstrale al usuario los resultados del análisis de su texto."
   ]
  },
  {
   "cell_type": "code",
   "execution_count": 16,
   "id": "eb0d449a",
   "metadata": {},
   "outputs": [
    {
     "name": "stdout",
     "output_type": "stream",
     "text": [
      "El numero de caracteres es 44\n",
      "Y si no conyamos los espacios tienes 35\n",
      "De los caracteres de texto hay 15\n",
      "el texto tiene 10 palabras\n",
      "Sin la primera palabra soy pepe pica papas y el mejor de todos\n",
      "Con guiones Hola-soy-pepe-pica-papas-y-el-mejor-de-todos\n",
      "Viceversa hOLA SOY PEPE PICA PAPAS Y EL MEJOR DE TODOS\n"
     ]
    }
   ],
   "source": [
    "print(f\"El numero de caracteres es { num_caracteres }\")\n",
    "print(f\"Y si no conyamos los espacios tienes { num_espacios_sin_espacio }\")\n",
    "print(f\"De los caracteres de texto hay { num_vocales }\")\n",
    "print(f\"el texto tiene { num_palabras } palabras\")\n",
    "print(f\"Sin la primera palabra { sin_primera_palabra }\")\n",
    "print(f\"Con guiones { guiones }\")\n",
    "print(f\"Viceversa { viceversa }\")"
   ]
  },
  {
   "cell_type": "code",
   "execution_count": null,
   "id": "17c60018-d980-4c1a-9850-ccf397fa4ebc",
   "metadata": {},
   "outputs": [],
   "source": []
  }
 ],
 "metadata": {
  "kernelspec": {
   "display_name": "Python [conda env:base] *",
   "language": "python",
   "name": "conda-base-py"
  },
  "language_info": {
   "codemirror_mode": {
    "name": "ipython",
    "version": 3
   },
   "file_extension": ".py",
   "mimetype": "text/x-python",
   "name": "python",
   "nbconvert_exporter": "python",
   "pygments_lexer": "ipython3",
   "version": "3.12.7"
  }
 },
 "nbformat": 4,
 "nbformat_minor": 5
}

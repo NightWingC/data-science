{
  "cells": [
    {
      "cell_type": "code",
      "execution_count": 1,
      "id": "e3e04921",
      "metadata": {
        "id": "e3e04921"
      },
      "outputs": [],
      "source": [
        "import numpy as np"
      ]
    },
    {
      "cell_type": "code",
      "execution_count": 3,
      "id": "04b7bfba",
      "metadata": {
        "id": "04b7bfba"
      },
      "outputs": [],
      "source": [
        "array = np.array([1,2,3])"
      ]
    },
    {
      "cell_type": "code",
      "source": [
        "len(array)"
      ],
      "metadata": {
        "id": "xLhc9mc7SGiw",
        "outputId": "84796642-b42b-41da-84a5-f715c6a754f5",
        "colab": {
          "base_uri": "https://localhost:8080/"
        }
      },
      "id": "xLhc9mc7SGiw",
      "execution_count": 4,
      "outputs": [
        {
          "output_type": "execute_result",
          "data": {
            "text/plain": [
              "3"
            ]
          },
          "metadata": {},
          "execution_count": 4
        }
      ]
    },
    {
      "cell_type": "code",
      "source": [
        "array.shape"
      ],
      "metadata": {
        "id": "-0K3EaU9SLMN",
        "outputId": "cbdcf6f5-181d-4199-e963-38a04dd6e206",
        "colab": {
          "base_uri": "https://localhost:8080/"
        }
      },
      "id": "-0K3EaU9SLMN",
      "execution_count": 5,
      "outputs": [
        {
          "output_type": "execute_result",
          "data": {
            "text/plain": [
              "(3,)"
            ]
          },
          "metadata": {},
          "execution_count": 5
        }
      ]
    },
    {
      "cell_type": "code",
      "source": [
        "array_2d = np.array([[1,2,3],[4,5,6]])\n",
        "array_2d"
      ],
      "metadata": {
        "id": "DPXepBBQSPil",
        "outputId": "daaf80ba-67e6-44eb-9d4b-b6b22ba7284c",
        "colab": {
          "base_uri": "https://localhost:8080/"
        }
      },
      "id": "DPXepBBQSPil",
      "execution_count": 8,
      "outputs": [
        {
          "output_type": "execute_result",
          "data": {
            "text/plain": [
              "array([[1, 2, 3],\n",
              "       [4, 5, 6]])"
            ]
          },
          "metadata": {},
          "execution_count": 8
        }
      ]
    },
    {
      "cell_type": "code",
      "source": [
        "len(array_2d)"
      ],
      "metadata": {
        "id": "w-fSSULpSkBb",
        "outputId": "f916a75a-a794-4963-fad9-7b7295e593cd",
        "colab": {
          "base_uri": "https://localhost:8080/"
        }
      },
      "id": "w-fSSULpSkBb",
      "execution_count": 9,
      "outputs": [
        {
          "output_type": "execute_result",
          "data": {
            "text/plain": [
              "2"
            ]
          },
          "metadata": {},
          "execution_count": 9
        }
      ]
    },
    {
      "cell_type": "code",
      "source": [
        "array_2d.shape"
      ],
      "metadata": {
        "id": "4BCBtGqiSmqn",
        "outputId": "c9c84150-e03e-4ffa-ce78-8100730807d3",
        "colab": {
          "base_uri": "https://localhost:8080/"
        }
      },
      "id": "4BCBtGqiSmqn",
      "execution_count": 11,
      "outputs": [
        {
          "output_type": "execute_result",
          "data": {
            "text/plain": [
              "(2, 3)"
            ]
          },
          "metadata": {},
          "execution_count": 11
        }
      ]
    }
  ],
  "metadata": {
    "kernelspec": {
      "display_name": "Python 3 (ipykernel)",
      "language": "python",
      "name": "python3"
    },
    "language_info": {
      "codemirror_mode": {
        "name": "ipython",
        "version": 3
      },
      "file_extension": ".py",
      "mimetype": "text/x-python",
      "name": "python",
      "nbconvert_exporter": "python",
      "pygments_lexer": "ipython3",
      "version": "3.11.5"
    },
    "colab": {
      "provenance": []
    }
  },
  "nbformat": 4,
  "nbformat_minor": 5
}
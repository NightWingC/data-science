{
  "nbformat": 4,
  "nbformat_minor": 0,
  "metadata": {
    "colab": {
      "provenance": [],
      "authorship_tag": "ABX9TyOyFhlTxK2LNXvyefh1iGbr"
    },
    "kernelspec": {
      "name": "python3",
      "display_name": "Python 3"
    },
    "language_info": {
      "name": "python"
    }
  },
  "cells": [
    {
      "cell_type": "code",
      "execution_count": null,
      "metadata": {
        "id": "9I28kRqu04Vw"
      },
      "outputs": [],
      "source": [
        "# Load library\n",
        "import pandas as pd\n",
        "\n",
        "# Create URL\n",
        "url = \"https://raw.githubusercontent.com/chrisalbon/sim_data/master/titanic.csv\""
      ]
    }
  ]
}